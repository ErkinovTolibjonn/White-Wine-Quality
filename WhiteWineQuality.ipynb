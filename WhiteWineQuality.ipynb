{
  "nbformat": 4,
  "nbformat_minor": 0,
  "metadata": {
    "colab": {
      "provenance": []
    },
    "kernelspec": {
      "name": "python3",
      "display_name": "Python 3"
    },
    "language_info": {
      "name": "python"
    }
  },
  "cells": [
    {
      "cell_type": "code",
      "execution_count": 35,
      "metadata": {
        "id": "h8EhhiNtZF17"
      },
      "outputs": [],
      "source": [
        "import numpy as np\n",
        "import pandas as pd\n",
        "import torch\n",
        "from torch import nn\n",
        "import matplotlib.pyplot as plt\n",
        "from sklearn.model_selection import train_test_split"
      ]
    },
    {
      "cell_type": "code",
      "source": [
        "data = np.genfromtxt('/content/winequality-white.csv',delimiter=';',skip_header=1)"
      ],
      "metadata": {
        "id": "S4ClKKPifynP"
      },
      "execution_count": 36,
      "outputs": []
    },
    {
      "cell_type": "code",
      "source": [
        "data_x = np.array(data[:,:11])\n",
        "data_y = np.array(data[:,-1])"
      ],
      "metadata": {
        "id": "dlvjwLrIyOEd"
      },
      "execution_count": 37,
      "outputs": []
    },
    {
      "cell_type": "code",
      "source": [
        "x = torch.tensor(data_x,dtype = torch.float32)\n",
        "y = torch.tensor(data_y,dtype = torch.float32)"
      ],
      "metadata": {
        "id": "S2-nM72YyojY"
      },
      "execution_count": 38,
      "outputs": []
    },
    {
      "cell_type": "code",
      "source": [
        "X_train,X_test,Y_train,Y_test = train_test_split(x,y,test_size = 0.33,random_state=40)"
      ],
      "metadata": {
        "id": "BzXza5vp18Nt"
      },
      "execution_count": 39,
      "outputs": []
    },
    {
      "cell_type": "code",
      "source": [
        "x_train = torch.tensor(X_train,dtype = torch.float32)\n",
        "y_train = torch.tensor(Y_train.reshape(-1,1),dtype = torch.float32)\n",
        "\n",
        "x_test = torch.tensor(X_test,dtype = torch.float32)\n",
        "y_test = torch.tensor(Y_test.reshape(-1,1),dtype = torch.float32)"
      ],
      "metadata": {
        "colab": {
          "base_uri": "https://localhost:8080/"
        },
        "id": "7zJNR_er60ES",
        "outputId": "adb332a6-0f09-498f-c953-46dd8bda05ca"
      },
      "execution_count": 40,
      "outputs": [
        {
          "output_type": "stream",
          "name": "stderr",
          "text": [
            "<ipython-input-40-ef5e0006ccb5>:1: UserWarning: To copy construct from a tensor, it is recommended to use sourceTensor.clone().detach() or sourceTensor.clone().detach().requires_grad_(True), rather than torch.tensor(sourceTensor).\n",
            "  x_train = torch.tensor(X_train,dtype = torch.float32)\n",
            "<ipython-input-40-ef5e0006ccb5>:2: UserWarning: To copy construct from a tensor, it is recommended to use sourceTensor.clone().detach() or sourceTensor.clone().detach().requires_grad_(True), rather than torch.tensor(sourceTensor).\n",
            "  y_train = torch.tensor(Y_train.reshape(-1,1),dtype = torch.float32)\n",
            "<ipython-input-40-ef5e0006ccb5>:4: UserWarning: To copy construct from a tensor, it is recommended to use sourceTensor.clone().detach() or sourceTensor.clone().detach().requires_grad_(True), rather than torch.tensor(sourceTensor).\n",
            "  x_test = torch.tensor(X_test,dtype = torch.float32)\n",
            "<ipython-input-40-ef5e0006ccb5>:5: UserWarning: To copy construct from a tensor, it is recommended to use sourceTensor.clone().detach() or sourceTensor.clone().detach().requires_grad_(True), rather than torch.tensor(sourceTensor).\n",
            "  y_test = torch.tensor(Y_test.reshape(-1,1),dtype = torch.float32)\n"
          ]
        }
      ]
    },
    {
      "cell_type": "code",
      "source": [
        "print(x_train.shape)\n",
        "print(y_train.shape)\n",
        "print(x_test.shape)\n",
        "print(y_test.shape)"
      ],
      "metadata": {
        "colab": {
          "base_uri": "https://localhost:8080/"
        },
        "id": "DRjwsvYP7aT5",
        "outputId": "2d605e3d-4bd5-458e-cf37-32a8650d6c56"
      },
      "execution_count": 41,
      "outputs": [
        {
          "output_type": "stream",
          "name": "stdout",
          "text": [
            "torch.Size([3281, 11])\n",
            "torch.Size([3281, 1])\n",
            "torch.Size([1617, 11])\n",
            "torch.Size([1617, 1])\n"
          ]
        }
      ]
    },
    {
      "cell_type": "code",
      "source": [
        "class Net(torch.nn.Module):            \n",
        "  def __init__(self):\n",
        "    super().__init__()\n",
        "    self.linear1 = torch.nn.Linear(11,32)\n",
        "    self.linear2 = torch.nn.Linear(32,16)\n",
        "    self.linear3 = torch.nn.Linear(16,1)\n",
        "    self.activation =torch.nn.ReLU()\n",
        "\n",
        "\n",
        "  def forward(self,x):\n",
        "    x=self.linear1(x)\n",
        "    x = self.activation(x)\n",
        "    x=self.linear2(x)\n",
        "    x = self.activation(x)\n",
        "    x=self.linear3(x)\n",
        "    return x "
      ],
      "metadata": {
        "id": "JjHFz9xk2KVe"
      },
      "execution_count": 43,
      "outputs": []
    },
    {
      "cell_type": "code",
      "source": [
        "model = Net()"
      ],
      "metadata": {
        "id": "y9ktPFL32RJP"
      },
      "execution_count": 44,
      "outputs": []
    },
    {
      "cell_type": "code",
      "source": [
        "criterion = torch.nn.MSELoss()\n",
        "LearningRate = 0.001\n",
        "optimizer = torch.optim.Adam(model.parameters(), lr=LearningRate)"
      ],
      "metadata": {
        "id": "WfNrK2JA99Rm"
      },
      "execution_count": 47,
      "outputs": []
    },
    {
      "cell_type": "code",
      "source": [
        "num_epochs = 50000\n",
        "loss_list = []\n",
        "for epoch in range(num_epochs):\n",
        "  y_hat = model(x_train)\n",
        "  loss = criterion(y_hat,y_train)\n",
        "  loss_list.append(loss.item())\n",
        "\n",
        "  # backward\n",
        "  loss.backward()\n",
        "  # update\n",
        "  optimizer.step()\n",
        "\n",
        "  optimizer.zero_grad()\n",
        "\n",
        "  if epoch % 5000 == 0:\n",
        "    print(f'Epoch: [{epoch+1}/{num_epochs}] Loss: [{loss.item():.6f}]')\n"
      ],
      "metadata": {
        "colab": {
          "base_uri": "https://localhost:8080/"
        },
        "id": "2czU8UUjcZPn",
        "outputId": "a4b1b0c4-429d-490a-e4d9-90d22a5d7bc0"
      },
      "execution_count": 48,
      "outputs": [
        {
          "output_type": "stream",
          "name": "stdout",
          "text": [
            "Epoch: [1/50000] Loss: [71.484970]\n",
            "Epoch: [5001/50000] Loss: [0.530838]\n",
            "Epoch: [10001/50000] Loss: [0.527097]\n",
            "Epoch: [15001/50000] Loss: [0.523901]\n",
            "Epoch: [20001/50000] Loss: [0.518810]\n",
            "Epoch: [25001/50000] Loss: [0.513355]\n",
            "Epoch: [30001/50000] Loss: [0.511558]\n",
            "Epoch: [35001/50000] Loss: [0.508543]\n",
            "Epoch: [40001/50000] Loss: [0.507023]\n",
            "Epoch: [45001/50000] Loss: [0.506136]\n"
          ]
        }
      ]
    },
    {
      "cell_type": "code",
      "source": [
        "y_pred = model(x_test)"
      ],
      "metadata": {
        "id": "RVmymCLx_Tde"
      },
      "execution_count": 49,
      "outputs": []
    },
    {
      "cell_type": "code",
      "source": [
        "from sklearn.ensemble import RandomForestClassifier"
      ],
      "metadata": {
        "id": "JUEcyHkL7tJF"
      },
      "execution_count": 50,
      "outputs": []
    },
    {
      "cell_type": "code",
      "source": [
        "classifier=RandomForestClassifier(random_state=0,max_depth=3)\n",
        "classifier.fit(x_train,y_train)"
      ],
      "metadata": {
        "colab": {
          "base_uri": "https://localhost:8080/"
        },
        "id": "sJ5ej1mP8qtt",
        "outputId": "f4cf932b-05e0-4ee1-a911-5ebd82e88adc"
      },
      "execution_count": 51,
      "outputs": [
        {
          "output_type": "stream",
          "name": "stderr",
          "text": [
            "<ipython-input-51-1e0588858b1a>:2: DataConversionWarning: A column-vector y was passed when a 1d array was expected. Please change the shape of y to (n_samples,), for example using ravel().\n",
            "  classifier.fit(x_train,y_train)\n"
          ]
        },
        {
          "output_type": "execute_result",
          "data": {
            "text/plain": [
              "RandomForestClassifier(max_depth=3, random_state=0)"
            ]
          },
          "metadata": {},
          "execution_count": 51
        }
      ]
    },
    {
      "cell_type": "code",
      "source": [
        "y_pred=classifier.predict(x_test)"
      ],
      "metadata": {
        "id": "EGsjoUi98tuU"
      },
      "execution_count": 52,
      "outputs": []
    },
    {
      "cell_type": "code",
      "source": [
        "from sklearn.metrics import accuracy_score"
      ],
      "metadata": {
        "id": "E4v-YRvi8wxY"
      },
      "execution_count": 53,
      "outputs": []
    },
    {
      "cell_type": "code",
      "source": [
        "accuracy_score(y_test,y_pred)"
      ],
      "metadata": {
        "colab": {
          "base_uri": "https://localhost:8080/"
        },
        "id": "O60RTl9c80Ov",
        "outputId": "eeaf43a4-e1d3-4ca3-8ec0-88474bf326ed"
      },
      "execution_count": 54,
      "outputs": [
        {
          "output_type": "execute_result",
          "data": {
            "text/plain": [
              "0.5330859616573902"
            ]
          },
          "metadata": {},
          "execution_count": 54
        }
      ]
    },
    {
      "cell_type": "code",
      "source": [
        "from sklearn.naive_bayes import GaussianNB\n",
        "model = GaussianNB()"
      ],
      "metadata": {
        "id": "C8i4Gk7E82fq"
      },
      "execution_count": 55,
      "outputs": []
    },
    {
      "cell_type": "code",
      "source": [
        "model.fit(x_train,y_train)"
      ],
      "metadata": {
        "colab": {
          "base_uri": "https://localhost:8080/"
        },
        "id": "zf7KuoLs86EW",
        "outputId": "016fb7d9-bc91-4970-df40-540802c248fd"
      },
      "execution_count": 56,
      "outputs": [
        {
          "output_type": "stream",
          "name": "stderr",
          "text": [
            "/usr/local/lib/python3.8/dist-packages/sklearn/utils/validation.py:993: DataConversionWarning: A column-vector y was passed when a 1d array was expected. Please change the shape of y to (n_samples, ), for example using ravel().\n",
            "  y = column_or_1d(y, warn=True)\n"
          ]
        },
        {
          "output_type": "execute_result",
          "data": {
            "text/plain": [
              "GaussianNB()"
            ]
          },
          "metadata": {},
          "execution_count": 56
        }
      ]
    },
    {
      "cell_type": "code",
      "source": [
        "y_prediction=model.predict(x_test)"
      ],
      "metadata": {
        "id": "yTOwdP0Z89yj"
      },
      "execution_count": 57,
      "outputs": []
    },
    {
      "cell_type": "code",
      "source": [
        "accuracy_score(y_test,y_prediction)"
      ],
      "metadata": {
        "colab": {
          "base_uri": "https://localhost:8080/"
        },
        "id": "zUczmYPZ9BO2",
        "outputId": "c8243f55-8302-4156-b2cd-dfdc12151640"
      },
      "execution_count": 58,
      "outputs": [
        {
          "output_type": "execute_result",
          "data": {
            "text/plain": [
              "0.43722943722943725"
            ]
          },
          "metadata": {},
          "execution_count": 58
        }
      ]
    }
  ]
}